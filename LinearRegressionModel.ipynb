{
 "cells": [
  {
   "cell_type": "code",
   "execution_count": 47,
   "id": "7fd54920-5b61-4cad-9db2-2e47bd3742e3",
   "metadata": {},
   "outputs": [],
   "source": [
    "#Import Libraries\n",
    "import json\n",
    "import pandas as pd\n",
    "import numpy as np\n",
    "import seaborn as sns\n",
    "from sklearn.model_selection import train_test_split\n",
    "from sklearn.linear_model import LinearRegression\n",
    "from sklearn.metrics import mean_squared_error ,r2_score\n",
    "import matplotlib.pyplot as plt"
   ]
  },
  {
   "cell_type": "code",
   "execution_count": 28,
   "id": "340af813-4e21-4b53-88d9-553fea978fc8",
   "metadata": {},
   "outputs": [
    {
     "data": {
      "text/html": [
       "<div>\n",
       "<style scoped>\n",
       "    .dataframe tbody tr th:only-of-type {\n",
       "        vertical-align: middle;\n",
       "    }\n",
       "\n",
       "    .dataframe tbody tr th {\n",
       "        vertical-align: top;\n",
       "    }\n",
       "\n",
       "    .dataframe thead th {\n",
       "        text-align: right;\n",
       "    }\n",
       "</style>\n",
       "<table border=\"1\" class=\"dataframe\">\n",
       "  <thead>\n",
       "    <tr style=\"text-align: right;\">\n",
       "      <th></th>\n",
       "      <th>count</th>\n",
       "      <th>humidity</th>\n",
       "      <th>pressure</th>\n",
       "      <th>temperature</th>\n",
       "      <th>oxygenSensor</th>\n",
       "    </tr>\n",
       "  </thead>\n",
       "  <tbody>\n",
       "    <tr>\n",
       "      <th>count</th>\n",
       "      <td>7048.000000</td>\n",
       "      <td>7048.000000</td>\n",
       "      <td>7048.000000</td>\n",
       "      <td>7048.000000</td>\n",
       "      <td>4084.000000</td>\n",
       "    </tr>\n",
       "    <tr>\n",
       "      <th>mean</th>\n",
       "      <td>17.159620</td>\n",
       "      <td>40.485480</td>\n",
       "      <td>98.336019</td>\n",
       "      <td>23.700681</td>\n",
       "      <td>20.819167</td>\n",
       "    </tr>\n",
       "    <tr>\n",
       "      <th>std</th>\n",
       "      <td>29.646112</td>\n",
       "      <td>5.780863</td>\n",
       "      <td>5.892388</td>\n",
       "      <td>1.862144</td>\n",
       "      <td>0.101321</td>\n",
       "    </tr>\n",
       "    <tr>\n",
       "      <th>min</th>\n",
       "      <td>0.000000</td>\n",
       "      <td>0.000000</td>\n",
       "      <td>0.000000</td>\n",
       "      <td>0.000000</td>\n",
       "      <td>20.620000</td>\n",
       "    </tr>\n",
       "    <tr>\n",
       "      <th>25%</th>\n",
       "      <td>2.000000</td>\n",
       "      <td>39.580000</td>\n",
       "      <td>98.280000</td>\n",
       "      <td>22.710000</td>\n",
       "      <td>20.760000</td>\n",
       "    </tr>\n",
       "    <tr>\n",
       "      <th>50%</th>\n",
       "      <td>4.000000</td>\n",
       "      <td>40.840000</td>\n",
       "      <td>98.490000</td>\n",
       "      <td>23.410000</td>\n",
       "      <td>20.790000</td>\n",
       "    </tr>\n",
       "    <tr>\n",
       "      <th>75%</th>\n",
       "      <td>9.000000</td>\n",
       "      <td>43.960000</td>\n",
       "      <td>99.060000</td>\n",
       "      <td>25.110000</td>\n",
       "      <td>20.840000</td>\n",
       "    </tr>\n",
       "    <tr>\n",
       "      <th>max</th>\n",
       "      <td>91.000000</td>\n",
       "      <td>134.570000</td>\n",
       "      <td>99.820000</td>\n",
       "      <td>26.860000</td>\n",
       "      <td>21.270000</td>\n",
       "    </tr>\n",
       "  </tbody>\n",
       "</table>\n",
       "</div>"
      ],
      "text/plain": [
       "             count     humidity     pressure  temperature  oxygenSensor\n",
       "count  7048.000000  7048.000000  7048.000000  7048.000000   4084.000000\n",
       "mean     17.159620    40.485480    98.336019    23.700681     20.819167\n",
       "std      29.646112     5.780863     5.892388     1.862144      0.101321\n",
       "min       0.000000     0.000000     0.000000     0.000000     20.620000\n",
       "25%       2.000000    39.580000    98.280000    22.710000     20.760000\n",
       "50%       4.000000    40.840000    98.490000    23.410000     20.790000\n",
       "75%       9.000000    43.960000    99.060000    25.110000     20.840000\n",
       "max      91.000000   134.570000    99.820000    26.860000     21.270000"
      ]
     },
     "execution_count": 28,
     "metadata": {},
     "output_type": "execute_result"
    }
   ],
   "source": [
    "# Read JSON file\n",
    "with open('new_bus_json.json') as f:\n",
    "    data = json.load(f)\n",
    "    \n",
    "# Extract relevant data by Converting JSON data to DataFrame\n",
    "system_data = []\n",
    "for key, value in data['sensorData']['jsonData'].items():\n",
    "    value['id'] = key  # Add an identifier for each data point\n",
    "    system_data.append(value)\n",
    "\n",
    "# Convert to pandas DataFrame\n",
    "df = pd.DataFrame(system_data)\n",
    "\n",
    "# Summary statistics\n",
    "df.describe()"
   ]
  },
  {
   "cell_type": "code",
   "execution_count": 29,
   "id": "f07d5b4e-42a8-41d5-8e67-ca15af61682d",
   "metadata": {},
   "outputs": [
    {
     "name": "stdout",
     "output_type": "stream",
     "text": [
      "Column Data Types: \n"
     ]
    },
    {
     "data": {
      "text/plain": [
       "count             int64\n",
       "humidity        float64\n",
       "pressure        float64\n",
       "temperature     float64\n",
       "id               object\n",
       "oxygenSensor    float64\n",
       "dtype: object"
      ]
     },
     "execution_count": 29,
     "metadata": {},
     "output_type": "execute_result"
    }
   ],
   "source": [
    "print(\"Column Data Types: \")\n",
    "data_type = df.dtypes\n",
    "data_type"
   ]
  },
  {
   "cell_type": "code",
   "execution_count": 30,
   "id": "81d310dc-3b17-4459-9366-e77f4d73ec2c",
   "metadata": {},
   "outputs": [
    {
     "data": {
      "text/plain": [
       "count              0\n",
       "humidity           0\n",
       "pressure           0\n",
       "temperature        0\n",
       "id                 0\n",
       "oxygenSensor    2964\n",
       "dtype: int64"
      ]
     },
     "execution_count": 30,
     "metadata": {},
     "output_type": "execute_result"
    }
   ],
   "source": [
    "null_value = df.isnull()\n",
    "null_count = null_value.sum()\n",
    "null_count"
   ]
  },
  {
   "cell_type": "code",
   "execution_count": 31,
   "id": "57871f2e-60d7-4422-b7e4-1b7797bd7af8",
   "metadata": {},
   "outputs": [
    {
     "data": {
      "text/plain": [
       "2964"
      ]
     },
     "execution_count": 31,
     "metadata": {},
     "output_type": "execute_result"
    }
   ],
   "source": [
    "total_null_count = null_count.sum()\n",
    "total_null_count"
   ]
  },
  {
   "cell_type": "code",
   "execution_count": 32,
   "id": "301d0e21-0730-4db4-87eb-2c504f43bedd",
   "metadata": {},
   "outputs": [],
   "source": [
    "# Handle missing values\n",
    "df.dropna(inplace=True)"
   ]
  },
  {
   "cell_type": "code",
   "execution_count": 33,
   "id": "8e289b10-0c04-4dc7-9bea-d236effba8e5",
   "metadata": {},
   "outputs": [
    {
     "name": "stdout",
     "output_type": "stream",
     "text": [
      "Missing values: count           0\n",
      "humidity        0\n",
      "pressure        0\n",
      "temperature     0\n",
      "id              0\n",
      "oxygenSensor    0\n",
      "dtype: int64\n"
     ]
    }
   ],
   "source": [
    "# Check for missing values\n",
    "print(\"Missing values:\", df.isnull().sum())"
   ]
  },
  {
   "cell_type": "code",
   "execution_count": 34,
   "id": "145d8e2e-3c8e-4f93-bcb1-6afc9ad09839",
   "metadata": {},
   "outputs": [
    {
     "data": {
      "text/html": [
       "<div>\n",
       "<style scoped>\n",
       "    .dataframe tbody tr th:only-of-type {\n",
       "        vertical-align: middle;\n",
       "    }\n",
       "\n",
       "    .dataframe tbody tr th {\n",
       "        vertical-align: top;\n",
       "    }\n",
       "\n",
       "    .dataframe thead th {\n",
       "        text-align: right;\n",
       "    }\n",
       "</style>\n",
       "<table border=\"1\" class=\"dataframe\">\n",
       "  <thead>\n",
       "    <tr style=\"text-align: right;\">\n",
       "      <th></th>\n",
       "      <th>count</th>\n",
       "      <th>humidity</th>\n",
       "      <th>pressure</th>\n",
       "      <th>temperature</th>\n",
       "      <th>id</th>\n",
       "      <th>oxygenSensor</th>\n",
       "    </tr>\n",
       "  </thead>\n",
       "  <tbody>\n",
       "    <tr>\n",
       "      <th>2964</th>\n",
       "      <td>4</td>\n",
       "      <td>41.97</td>\n",
       "      <td>98.14</td>\n",
       "      <td>22.07</td>\n",
       "      <td>-NueoL1gkM2PqLlSs80d</td>\n",
       "      <td>20.72</td>\n",
       "    </tr>\n",
       "    <tr>\n",
       "      <th>2965</th>\n",
       "      <td>4</td>\n",
       "      <td>41.36</td>\n",
       "      <td>98.14</td>\n",
       "      <td>22.20</td>\n",
       "      <td>-NueoM0DI7IgmpG9immZ</td>\n",
       "      <td>20.70</td>\n",
       "    </tr>\n",
       "    <tr>\n",
       "      <th>2966</th>\n",
       "      <td>4</td>\n",
       "      <td>41.41</td>\n",
       "      <td>98.14</td>\n",
       "      <td>22.18</td>\n",
       "      <td>-NueoN0FbRmlmFW0JL_V</td>\n",
       "      <td>20.75</td>\n",
       "    </tr>\n",
       "    <tr>\n",
       "      <th>2967</th>\n",
       "      <td>4</td>\n",
       "      <td>41.28</td>\n",
       "      <td>98.15</td>\n",
       "      <td>22.22</td>\n",
       "      <td>-NueoNxjgSLPRouUY6fp</td>\n",
       "      <td>20.74</td>\n",
       "    </tr>\n",
       "    <tr>\n",
       "      <th>2968</th>\n",
       "      <td>4</td>\n",
       "      <td>41.19</td>\n",
       "      <td>98.14</td>\n",
       "      <td>22.18</td>\n",
       "      <td>-NueoOu2aHQkjTgyOZz9</td>\n",
       "      <td>20.74</td>\n",
       "    </tr>\n",
       "    <tr>\n",
       "      <th>2969</th>\n",
       "      <td>4</td>\n",
       "      <td>41.64</td>\n",
       "      <td>98.15</td>\n",
       "      <td>22.20</td>\n",
       "      <td>-NueoPs1ApX76HkH7Gmf</td>\n",
       "      <td>20.71</td>\n",
       "    </tr>\n",
       "    <tr>\n",
       "      <th>2970</th>\n",
       "      <td>5</td>\n",
       "      <td>41.81</td>\n",
       "      <td>98.15</td>\n",
       "      <td>22.24</td>\n",
       "      <td>-NueoQoMVAUmPpz_gS91</td>\n",
       "      <td>20.74</td>\n",
       "    </tr>\n",
       "    <tr>\n",
       "      <th>2971</th>\n",
       "      <td>5</td>\n",
       "      <td>41.67</td>\n",
       "      <td>98.14</td>\n",
       "      <td>22.22</td>\n",
       "      <td>-NueoRkeKhxC55LQMlGX</td>\n",
       "      <td>20.74</td>\n",
       "    </tr>\n",
       "    <tr>\n",
       "      <th>2972</th>\n",
       "      <td>4</td>\n",
       "      <td>41.59</td>\n",
       "      <td>98.15</td>\n",
       "      <td>22.22</td>\n",
       "      <td>-NueoSuUWBXubmKgNfNp</td>\n",
       "      <td>20.74</td>\n",
       "    </tr>\n",
       "    <tr>\n",
       "      <th>2973</th>\n",
       "      <td>4</td>\n",
       "      <td>41.48</td>\n",
       "      <td>98.14</td>\n",
       "      <td>22.24</td>\n",
       "      <td>-NueoTrmHqGDCFQ03yY_</td>\n",
       "      <td>20.72</td>\n",
       "    </tr>\n",
       "  </tbody>\n",
       "</table>\n",
       "</div>"
      ],
      "text/plain": [
       "      count  humidity  pressure  temperature                    id  \\\n",
       "2964      4     41.97     98.14        22.07  -NueoL1gkM2PqLlSs80d   \n",
       "2965      4     41.36     98.14        22.20  -NueoM0DI7IgmpG9immZ   \n",
       "2966      4     41.41     98.14        22.18  -NueoN0FbRmlmFW0JL_V   \n",
       "2967      4     41.28     98.15        22.22  -NueoNxjgSLPRouUY6fp   \n",
       "2968      4     41.19     98.14        22.18  -NueoOu2aHQkjTgyOZz9   \n",
       "2969      4     41.64     98.15        22.20  -NueoPs1ApX76HkH7Gmf   \n",
       "2970      5     41.81     98.15        22.24  -NueoQoMVAUmPpz_gS91   \n",
       "2971      5     41.67     98.14        22.22  -NueoRkeKhxC55LQMlGX   \n",
       "2972      4     41.59     98.15        22.22  -NueoSuUWBXubmKgNfNp   \n",
       "2973      4     41.48     98.14        22.24  -NueoTrmHqGDCFQ03yY_   \n",
       "\n",
       "      oxygenSensor  \n",
       "2964         20.72  \n",
       "2965         20.70  \n",
       "2966         20.75  \n",
       "2967         20.74  \n",
       "2968         20.74  \n",
       "2969         20.71  \n",
       "2970         20.74  \n",
       "2971         20.74  \n",
       "2972         20.74  \n",
       "2973         20.72  "
      ]
     },
     "execution_count": 34,
     "metadata": {},
     "output_type": "execute_result"
    }
   ],
   "source": [
    "head = df.head(10)\n",
    "head"
   ]
  },
  {
   "cell_type": "code",
   "execution_count": 35,
   "id": "b0ee7540-973b-454e-9284-c10c083965cd",
   "metadata": {},
   "outputs": [
    {
     "data": {
      "text/html": [
       "<div>\n",
       "<style scoped>\n",
       "    .dataframe tbody tr th:only-of-type {\n",
       "        vertical-align: middle;\n",
       "    }\n",
       "\n",
       "    .dataframe tbody tr th {\n",
       "        vertical-align: top;\n",
       "    }\n",
       "\n",
       "    .dataframe thead th {\n",
       "        text-align: right;\n",
       "    }\n",
       "</style>\n",
       "<table border=\"1\" class=\"dataframe\">\n",
       "  <thead>\n",
       "    <tr style=\"text-align: right;\">\n",
       "      <th></th>\n",
       "      <th>count</th>\n",
       "      <th>humidity</th>\n",
       "      <th>pressure</th>\n",
       "      <th>temperature</th>\n",
       "      <th>id</th>\n",
       "      <th>oxygenSensor</th>\n",
       "    </tr>\n",
       "  </thead>\n",
       "  <tbody>\n",
       "    <tr>\n",
       "      <th>7038</th>\n",
       "      <td>7</td>\n",
       "      <td>40.80</td>\n",
       "      <td>99.60</td>\n",
       "      <td>23.73</td>\n",
       "      <td>-Nv0Pw51JHOXuuB74j09</td>\n",
       "      <td>20.76</td>\n",
       "    </tr>\n",
       "    <tr>\n",
       "      <th>7039</th>\n",
       "      <td>7</td>\n",
       "      <td>41.23</td>\n",
       "      <td>99.61</td>\n",
       "      <td>23.73</td>\n",
       "      <td>-Nv0Px1jL5uXWxVwIqoU</td>\n",
       "      <td>20.78</td>\n",
       "    </tr>\n",
       "    <tr>\n",
       "      <th>7040</th>\n",
       "      <td>7</td>\n",
       "      <td>40.94</td>\n",
       "      <td>99.60</td>\n",
       "      <td>23.73</td>\n",
       "      <td>-Nv0PxzKbTCXL4INbZ76</td>\n",
       "      <td>20.77</td>\n",
       "    </tr>\n",
       "    <tr>\n",
       "      <th>7041</th>\n",
       "      <td>6</td>\n",
       "      <td>41.28</td>\n",
       "      <td>99.60</td>\n",
       "      <td>23.71</td>\n",
       "      <td>-Nv0PywFMFbwtSggcG8H</td>\n",
       "      <td>20.74</td>\n",
       "    </tr>\n",
       "    <tr>\n",
       "      <th>7042</th>\n",
       "      <td>6</td>\n",
       "      <td>40.95</td>\n",
       "      <td>99.60</td>\n",
       "      <td>23.77</td>\n",
       "      <td>-Nv0PzskQU6auAXlGLFU</td>\n",
       "      <td>20.76</td>\n",
       "    </tr>\n",
       "    <tr>\n",
       "      <th>7043</th>\n",
       "      <td>5</td>\n",
       "      <td>40.85</td>\n",
       "      <td>99.60</td>\n",
       "      <td>23.71</td>\n",
       "      <td>-Nv0Q-pNPJzMrIadKZRk</td>\n",
       "      <td>20.74</td>\n",
       "    </tr>\n",
       "    <tr>\n",
       "      <th>7044</th>\n",
       "      <td>5</td>\n",
       "      <td>41.07</td>\n",
       "      <td>99.60</td>\n",
       "      <td>23.71</td>\n",
       "      <td>-Nv0Q0lnZwZPIqzpPIFF</td>\n",
       "      <td>20.73</td>\n",
       "    </tr>\n",
       "    <tr>\n",
       "      <th>7045</th>\n",
       "      <td>5</td>\n",
       "      <td>40.92</td>\n",
       "      <td>99.60</td>\n",
       "      <td>23.71</td>\n",
       "      <td>-Nv0Q1iIDUka3IzUUCQj</td>\n",
       "      <td>20.74</td>\n",
       "    </tr>\n",
       "    <tr>\n",
       "      <th>7046</th>\n",
       "      <td>5</td>\n",
       "      <td>41.16</td>\n",
       "      <td>99.60</td>\n",
       "      <td>23.71</td>\n",
       "      <td>-Nv0Q2etjcgE3ZR6QQ_q</td>\n",
       "      <td>20.73</td>\n",
       "    </tr>\n",
       "    <tr>\n",
       "      <th>7047</th>\n",
       "      <td>5</td>\n",
       "      <td>40.93</td>\n",
       "      <td>99.60</td>\n",
       "      <td>23.69</td>\n",
       "      <td>-Nv0Q3bNCRZfIwvKm_vP</td>\n",
       "      <td>20.75</td>\n",
       "    </tr>\n",
       "  </tbody>\n",
       "</table>\n",
       "</div>"
      ],
      "text/plain": [
       "      count  humidity  pressure  temperature                    id  \\\n",
       "7038      7     40.80     99.60        23.73  -Nv0Pw51JHOXuuB74j09   \n",
       "7039      7     41.23     99.61        23.73  -Nv0Px1jL5uXWxVwIqoU   \n",
       "7040      7     40.94     99.60        23.73  -Nv0PxzKbTCXL4INbZ76   \n",
       "7041      6     41.28     99.60        23.71  -Nv0PywFMFbwtSggcG8H   \n",
       "7042      6     40.95     99.60        23.77  -Nv0PzskQU6auAXlGLFU   \n",
       "7043      5     40.85     99.60        23.71  -Nv0Q-pNPJzMrIadKZRk   \n",
       "7044      5     41.07     99.60        23.71  -Nv0Q0lnZwZPIqzpPIFF   \n",
       "7045      5     40.92     99.60        23.71  -Nv0Q1iIDUka3IzUUCQj   \n",
       "7046      5     41.16     99.60        23.71  -Nv0Q2etjcgE3ZR6QQ_q   \n",
       "7047      5     40.93     99.60        23.69  -Nv0Q3bNCRZfIwvKm_vP   \n",
       "\n",
       "      oxygenSensor  \n",
       "7038         20.76  \n",
       "7039         20.78  \n",
       "7040         20.77  \n",
       "7041         20.74  \n",
       "7042         20.76  \n",
       "7043         20.74  \n",
       "7044         20.73  \n",
       "7045         20.74  \n",
       "7046         20.73  \n",
       "7047         20.75  "
      ]
     },
     "execution_count": 35,
     "metadata": {},
     "output_type": "execute_result"
    }
   ],
   "source": [
    "tail = df.tail(10)\n",
    "tail"
   ]
  },
  {
   "cell_type": "code",
   "execution_count": 36,
   "id": "74586112-5f37-4ac0-bb4a-999540d67137",
   "metadata": {},
   "outputs": [
    {
     "data": {
      "image/png": "[encoded data removed]",
      "text/plain": [
       "<Figure size 1000x600 with 1 Axes>"
      ]
     },
     "metadata": {},
     "output_type": "display_data"
    }
   ],
   "source": [
    "# Visualize the data\n",
    "plt.figure(figsize=(10, 6))\n",
    "plt.scatter(df['humidity'], df['temperature'])\n",
    "plt.xlabel('Humidity')\n",
    "plt.ylabel('Temperature')\n",
    "plt.title('Scatter Plot of Humidity vs Temperature')\n",
    "plt.grid(True)\n",
    "plt.show()"
   ]
  },
  {
   "cell_type": "code",
   "execution_count": 37,
   "id": "59f41844-867d-4577-8b18-cc935ed0ded7",
   "metadata": {},
   "outputs": [],
   "source": [
    "# Model Selection\n",
    "# Split data into features (X) and target variable (y)\n",
    "X = df[['count']]  # Feature matrix\n",
    "y = df['temperature']  # Target variable"
   ]
  },
  {
   "cell_type": "code",
   "execution_count": 38,
   "id": "ca19803b-cd23-46a4-bf5f-bc1e91d72970",
   "metadata": {},
   "outputs": [],
   "source": [
    "# Split data into training and testing sets\n",
    "X_train, X_test, y_train, y_test = train_test_split(X, y, test_size=0.2, random_state=42)"
   ]
  },
  {
   "cell_type": "code",
   "execution_count": 39,
   "id": "d162d3de-4998-4ed8-9075-9558dde72034",
   "metadata": {},
   "outputs": [
    {
     "data": {
      "text/html": [
       "<style>#sk-container-id-2 {color: black;}#sk-container-id-2 pre{padding: 0;}#sk-container-id-2 div.sk-toggleable {background-color: white;}#sk-container-id-2 label.sk-toggleable__label {cursor: pointer;display: block;width: 100%;margin-bottom: 0;padding: 0.3em;box-sizing: border-box;text-align: center;}#sk-container-id-2 label.sk-toggleable__label-arrow:before {content: \"▸\";float: left;margin-right: 0.25em;color: #696969;}#sk-container-id-2 label.sk-toggleable__label-arrow:hover:before {color: black;}#sk-container-id-2 div.sk-estimator:hover label.sk-toggleable__label-arrow:before {color: black;}#sk-container-id-2 div.sk-toggleable__content {max-height: 0;max-width: 0;overflow: hidden;text-align: left;background-color: #f0f8ff;}#sk-container-id-2 div.sk-toggleable__content pre {margin: 0.2em;color: black;border-radius: 0.25em;background-color: #f0f8ff;}#sk-container-id-2 input.sk-toggleable__control:checked~div.sk-toggleable__content {max-height: 200px;max-width: 100%;overflow: auto;}#sk-container-id-2 input.sk-toggleable__control:checked~label.sk-toggleable__label-arrow:before {content: \"▾\";}#sk-container-id-2 div.sk-estimator input.sk-toggleable__control:checked~label.sk-toggleable__label {background-color: #d4ebff;}#sk-container-id-2 div.sk-label input.sk-toggleable__control:checked~label.sk-toggleable__label {background-color: #d4ebff;}#sk-container-id-2 input.sk-hidden--visually {border: 0;clip: rect(1px 1px 1px 1px);clip: rect(1px, 1px, 1px, 1px);height: 1px;margin: -1px;overflow: hidden;padding: 0;position: absolute;width: 1px;}#sk-container-id-2 div.sk-estimator {font-family: monospace;background-color: #f0f8ff;border: 1px dotted black;border-radius: 0.25em;box-sizing: border-box;margin-bottom: 0.5em;}#sk-container-id-2 div.sk-estimator:hover {background-color: #d4ebff;}#sk-container-id-2 div.sk-parallel-item::after {content: \"\";width: 100%;border-bottom: 1px solid gray;flex-grow: 1;}#sk-container-id-2 div.sk-label:hover label.sk-toggleable__label {background-color: #d4ebff;}#sk-container-id-2 div.sk-serial::before {content: \"\";position: absolute;border-left: 1px solid gray;box-sizing: border-box;top: 0;bottom: 0;left: 50%;z-index: 0;}#sk-container-id-2 div.sk-serial {display: flex;flex-direction: column;align-items: center;background-color: white;padding-right: 0.2em;padding-left: 0.2em;position: relative;}#sk-container-id-2 div.sk-item {position: relative;z-index: 1;}#sk-container-id-2 div.sk-parallel {display: flex;align-items: stretch;justify-content: center;background-color: white;position: relative;}#sk-container-id-2 div.sk-item::before, #sk-container-id-2 div.sk-parallel-item::before {content: \"\";position: absolute;border-left: 1px solid gray;box-sizing: border-box;top: 0;bottom: 0;left: 50%;z-index: -1;}#sk-container-id-2 div.sk-parallel-item {display: flex;flex-direction: column;z-index: 1;position: relative;background-color: white;}#sk-container-id-2 div.sk-parallel-item:first-child::after {align-self: flex-end;width: 50%;}#sk-container-id-2 div.sk-parallel-item:last-child::after {align-self: flex-start;width: 50%;}#sk-container-id-2 div.sk-parallel-item:only-child::after {width: 0;}#sk-container-id-2 div.sk-dashed-wrapped {border: 1px dashed gray;margin: 0 0.4em 0.5em 0.4em;box-sizing: border-box;padding-bottom: 0.4em;background-color: white;}#sk-container-id-2 div.sk-label label {font-family: monospace;font-weight: bold;display: inline-block;line-height: 1.2em;}#sk-container-id-2 div.sk-label-container {text-align: center;}#sk-container-id-2 div.sk-container {/* jupyter's `normalize.less` sets `[hidden] { display: none; }` but bootstrap.min.css set `[hidden] { display: none !important; }` so we also need the `!important` here to be able to override the default hidden behavior on the sphinx rendered scikit-learn.org. See: https://github.com/scikit-learn/scikit-learn/issues/21755 */display: inline-block !important;position: relative;}#sk-container-id-2 div.sk-text-repr-fallback {display: none;}</style><div id=\"sk-container-id-2\" class=\"sk-top-container\"><div class=\"sk-text-repr-fallback\"><pre>LinearRegression()</pre><b>In a Jupyter environment, please rerun this cell to show the HTML representation or trust the notebook. <br />On GitHub, the HTML representation is unable to render, please try loading this page with nbviewer.org.</b></div><div class=\"sk-container\" hidden><div class=\"sk-item\"><div class=\"sk-estimator sk-toggleable\"><input class=\"sk-toggleable__control sk-hidden--visually\" id=\"sk-estimator-id-2\" type=\"checkbox\" checked><label for=\"sk-estimator-id-2\" class=\"sk-toggleable__label sk-toggleable__label-arrow\">LinearRegression</label><div class=\"sk-toggleable__content\"><pre>LinearRegression()</pre></div></div></div></div></div>"
      ],
      "text/plain": [
       "LinearRegression()"
      ]
     },
     "execution_count": 39,
     "metadata": {},
     "output_type": "execute_result"
    }
   ],
   "source": [
    "# Train the Model Using Training Data\n",
    "# Initialize and fit the linear regression model\n",
    "model = LinearRegression()\n",
    "model.fit(X_train, y_train)"
   ]
  },
  {
   "cell_type": "code",
   "execution_count": 43,
   "id": "fccb4420-c1b6-4aa7-8789-b61f23dbc259",
   "metadata": {},
   "outputs": [
    {
     "data": {
      "text/plain": [
       "array([23.44554253, 23.44554253, 23.34894395, 23.44554253, 22.5117563 ,\n",
       "       23.46700888, 23.44554253, 23.4562757 , 23.4562757 , 23.43480935,\n",
       "       23.48847523, 23.44554253, 23.44554253, 23.34894395, 23.48847523,\n",
       "       23.4562757 , 23.48847523, 23.4562757 , 22.554689  , 22.5117563 ,\n",
       "       23.08061458, 22.56542218, 23.4562757 , 23.29527808, 22.54395583,\n",
       "       23.34894395, 23.46700888, 23.27381173, 23.43480935, 22.554689  ,\n",
       "       23.46700888, 23.48847523, 22.554689  , 23.44554253, 23.48847523,\n",
       "       23.47774205, 23.4562757 , 22.93035013, 23.47774205, 22.56542218,\n",
       "       23.23087903, 23.46700888, 23.47774205, 22.56542218, 22.56542218,\n",
       "       23.44554253, 23.46700888, 23.47774205, 22.54395583, 22.57615535,\n",
       "       22.554689  , 23.47774205, 23.4562757 , 23.44554253, 23.46700888,\n",
       "       23.34894395, 22.56542218, 22.56542218, 22.5117563 , 23.4562757 ,\n",
       "       23.43480935, 22.57615535, 23.4562757 , 23.42407618, 22.56542218,\n",
       "       23.48847523, 22.554689  , 23.44554253, 22.56542218, 22.554689  ,\n",
       "       22.554689  , 23.48847523, 23.4562757 , 23.4562757 , 22.554689  ,\n",
       "       23.44554253, 23.27381173, 22.554689  , 22.554689  , 23.31674443,\n",
       "       23.47774205, 23.47774205, 23.4562757 , 22.56542218, 23.4562757 ,\n",
       "       23.48847523, 22.56542218, 23.46700888, 22.56542218, 23.27381173,\n",
       "       23.47774205, 23.4562757 , 23.44554253, 23.47774205, 23.38114348,\n",
       "       23.44554253, 23.47774205, 22.554689  , 22.554689  , 23.31674443,\n",
       "       22.56542218, 23.48847523, 23.47774205, 23.4562757 , 23.44554253,\n",
       "       22.56542218, 23.43480935, 23.44554253, 22.56542218, 23.27381173,\n",
       "       23.34894395, 23.27381173, 23.44554253, 23.4562757 , 23.47774205,\n",
       "       23.44554253, 23.48847523, 23.48847523, 23.47774205, 23.43480935,\n",
       "       23.44554253, 23.47774205, 23.44554253, 23.47774205, 23.4562757 ,\n",
       "       23.46700888, 23.47774205, 23.44554253, 23.47774205, 22.57615535,\n",
       "       22.554689  , 22.554689  , 23.44554253, 22.554689  , 22.56542218,\n",
       "       22.554689  , 23.47774205, 23.47774205, 23.4562757 , 23.4562757 ,\n",
       "       23.4562757 , 23.4562757 , 23.14501363, 23.46700888, 22.56542218,\n",
       "       23.413343  , 22.554689  , 22.56542218, 23.42407618, 23.33821078,\n",
       "       22.56542218, 23.29527808, 22.57615535, 23.47774205, 22.5117563 ,\n",
       "       22.554689  , 23.27381173, 23.43480935, 23.27381173, 23.25234538,\n",
       "       23.47774205, 22.9410833 , 23.2416122 , 23.44554253, 23.38114348,\n",
       "       22.554689  , 23.33821078, 23.46700888, 23.48847523, 23.27381173,\n",
       "       22.554689  , 22.5117563 , 23.27381173, 22.56542218, 23.47774205,\n",
       "       23.46700888, 23.44554253, 23.48847523, 23.44554253, 22.56542218,\n",
       "       23.47774205, 23.46700888, 22.9410833 , 22.9410833 , 22.554689  ,\n",
       "       23.4562757 , 23.44554253, 23.48847523, 23.27381173, 23.44554253,\n",
       "       22.5117563 , 23.47774205, 23.47774205, 22.56542218, 23.4562757 ,\n",
       "       23.14501363, 22.57615535, 23.4562757 , 22.56542218, 22.554689  ,\n",
       "       23.43480935, 23.46700888, 22.5117563 , 23.34894395, 23.4562757 ,\n",
       "       22.56542218, 22.554689  , 23.413343  , 23.48847523, 23.44554253,\n",
       "       23.47774205, 23.4562757 , 23.47774205, 23.44554253, 23.44554253,\n",
       "       23.43480935, 22.56542218, 23.44554253, 22.56542218, 23.31674443,\n",
       "       23.46700888, 23.42407618, 22.5117563 , 23.413343  , 23.48847523,\n",
       "       23.46700888, 23.46700888, 23.48847523, 23.47774205, 22.56542218,\n",
       "       22.9410833 , 23.43480935, 22.97328283, 22.9410833 , 23.44554253,\n",
       "       23.47774205, 22.9410833 , 23.4562757 , 23.26307855, 23.27381173,\n",
       "       23.44554253, 23.29527808, 23.47774205, 23.48847523, 23.44554253,\n",
       "       23.46700888, 23.44554253, 23.48847523, 23.46700888, 23.44554253,\n",
       "       23.47774205, 23.47774205, 23.44554253, 23.3704103 , 23.27381173,\n",
       "       22.56542218, 23.44554253, 22.57615535, 23.40260983, 23.44554253,\n",
       "       22.54395583, 22.554689  , 23.48847523, 23.47774205, 23.4562757 ,\n",
       "       22.56542218, 23.48847523, 23.47774205, 23.34894395, 22.56542218,\n",
       "       22.56542218, 22.57615535, 23.43480935, 23.47774205, 23.4562757 ,\n",
       "       23.44554253, 23.44554253, 23.47774205, 23.48847523, 23.48847523,\n",
       "       23.47774205, 23.47774205, 23.43480935, 23.44554253, 23.47774205,\n",
       "       23.4562757 , 23.43480935, 22.554689  , 23.47774205, 22.9410833 ,\n",
       "       23.35967713, 23.2845449 , 22.554689  , 23.4562757 , 23.43480935,\n",
       "       22.554689  , 23.3274776 , 23.43480935, 22.554689  , 22.56542218,\n",
       "       23.413343  , 23.4562757 , 22.554689  , 22.9410833 , 23.48847523,\n",
       "       23.47774205, 23.47774205, 23.46700888, 23.44554253, 23.44554253,\n",
       "       22.5976217 , 23.4562757 , 22.56542218, 23.44554253, 22.5117563 ,\n",
       "       23.27381173, 22.554689  , 23.43480935, 23.39187665, 23.47774205,\n",
       "       23.34894395, 23.34894395, 23.47774205, 22.554689  , 23.43480935,\n",
       "       23.47774205, 22.57615535, 22.56542218, 23.44554253, 23.46700888,\n",
       "       23.4562757 , 22.56542218, 23.47774205, 23.46700888, 23.27381173,\n",
       "       23.46700888, 23.4562757 , 23.47774205, 23.39187665, 23.48847523,\n",
       "       23.27381173, 23.4562757 , 23.34894395, 22.9410833 , 22.554689  ,\n",
       "       23.47774205, 23.44554253, 23.4562757 , 22.554689  , 22.56542218,\n",
       "       23.43480935, 23.48847523, 23.44554253, 23.34894395, 23.48847523,\n",
       "       23.42407618, 23.27381173, 22.56542218, 23.27381173, 23.44554253,\n",
       "       23.46700888, 23.27381173, 23.43480935, 23.2845449 , 23.4562757 ,\n",
       "       23.43480935, 22.554689  , 23.413343  , 23.44554253, 22.554689  ,\n",
       "       23.44554253, 22.57615535, 23.47774205, 23.4562757 , 22.554689  ,\n",
       "       23.47774205, 23.4562757 , 23.48847523, 23.44554253, 23.47774205,\n",
       "       22.56542218, 23.27381173, 23.48847523, 23.48847523, 23.47774205,\n",
       "       23.47774205, 22.60835488, 22.5117563 , 23.4562757 , 23.43480935,\n",
       "       23.40260983, 23.4562757 , 22.554689  , 23.42407618, 23.47774205,\n",
       "       22.56542218, 23.4562757 , 23.48847523, 23.47774205, 22.5117563 ,\n",
       "       23.42407618, 23.44554253, 23.29527808, 23.44554253, 23.44554253,\n",
       "       23.46700888, 22.9410833 , 23.47774205, 22.56542218, 22.5117563 ,\n",
       "       23.44554253, 23.413343  , 23.47774205, 23.4562757 , 23.4562757 ,\n",
       "       22.56542218, 22.9410833 , 23.4562757 , 23.44554253, 22.554689  ,\n",
       "       23.34894395, 23.48847523, 23.34894395, 23.47774205, 23.4562757 ,\n",
       "       23.44554253, 22.554689  , 23.4562757 , 22.554689  , 23.44554253,\n",
       "       23.44554253, 23.44554253, 22.56542218, 22.554689  , 22.56542218,\n",
       "       23.44554253, 22.56542218, 22.93035013, 23.48847523, 23.4562757 ,\n",
       "       22.5117563 , 22.56542218, 22.56542218, 22.5117563 , 22.9410833 ,\n",
       "       23.47774205, 23.4562757 , 23.4562757 , 23.47774205, 23.47774205,\n",
       "       22.56542218, 23.46700888, 23.47774205, 23.48847523, 23.47774205,\n",
       "       22.56542218, 23.4562757 , 23.47774205, 23.4562757 , 23.47774205,\n",
       "       23.46700888, 23.26307855, 23.48847523, 22.5117563 , 23.42407618,\n",
       "       22.56542218, 23.4562757 , 23.48847523, 23.34894395, 23.33821078,\n",
       "       23.4562757 , 23.27381173, 22.554689  , 23.34894395, 23.47774205,\n",
       "       22.56542218, 22.56542218, 22.93035013, 23.42407618, 23.33821078,\n",
       "       23.48847523, 23.27381173, 23.48847523, 23.47774205, 23.4562757 ,\n",
       "       23.47774205, 23.34894395, 23.44554253, 23.46700888, 23.47774205,\n",
       "       23.46700888, 23.31674443, 22.57615535, 23.4562757 , 23.42407618,\n",
       "       22.554689  , 23.4562757 , 23.4562757 , 22.56542218, 22.56542218,\n",
       "       22.554689  , 23.29527808, 22.554689  , 23.47774205, 22.554689  ,\n",
       "       23.47774205, 23.4562757 , 23.4562757 , 23.43480935, 23.44554253,\n",
       "       23.34894395, 23.46700888, 22.56542218, 23.48847523, 23.48847523,\n",
       "       23.48847523, 23.27381173, 23.48847523, 23.27381173, 23.42407618,\n",
       "       23.30601125, 23.34894395, 23.4562757 , 23.48847523, 22.54395583,\n",
       "       23.4562757 , 22.554689  , 23.4562757 , 23.43480935, 22.56542218,\n",
       "       23.33821078, 23.34894395, 23.4562757 , 22.5976217 , 22.5117563 ,\n",
       "       23.43480935, 22.554689  , 23.47774205, 22.93035013, 23.34894395,\n",
       "       23.46700888, 23.47774205, 22.56542218, 23.42407618, 23.47774205,\n",
       "       23.44554253, 23.29527808, 23.413343  , 23.4562757 , 23.44554253,\n",
       "       23.44554253, 23.48847523, 23.44554253, 22.57615535, 23.44554253,\n",
       "       23.43480935, 22.56542218, 23.47774205, 23.44554253, 22.54395583,\n",
       "       23.43480935, 22.57615535, 23.26307855, 22.554689  , 23.27381173,\n",
       "       23.47774205, 23.46700888, 22.554689  , 23.34894395, 23.34894395,\n",
       "       23.47774205, 22.554689  , 23.27381173, 22.56542218, 23.4562757 ,\n",
       "       23.29527808, 22.9410833 , 23.4562757 , 23.44554253, 23.33821078,\n",
       "       23.44554253, 23.27381173, 23.48847523, 23.34894395, 22.554689  ,\n",
       "       23.46700888, 22.56542218, 23.33821078, 23.46700888, 23.33821078,\n",
       "       23.47774205, 23.47774205, 23.4562757 , 23.44554253, 23.47774205,\n",
       "       23.16647998, 23.43480935, 23.46700888, 23.4562757 , 23.44554253,\n",
       "       23.33821078, 22.93035013, 22.5117563 , 23.48847523, 23.27381173,\n",
       "       23.44554253, 23.48847523, 23.47774205, 23.44554253, 23.4562757 ,\n",
       "       23.46700888, 22.52248948, 23.44554253, 23.29527808, 23.44554253,\n",
       "       23.27381173, 22.56542218, 23.34894395, 22.56542218, 22.554689  ,\n",
       "       23.48847523, 22.56542218, 23.40260983, 23.48847523, 22.554689  ,\n",
       "       23.27381173, 23.4562757 , 22.9410833 , 23.44554253, 23.43480935,\n",
       "       23.38114348, 22.93035013, 23.48847523, 23.47774205, 23.48847523,\n",
       "       23.44554253, 23.44554253, 23.4562757 , 23.4562757 , 22.56542218,\n",
       "       23.47774205, 23.48847523, 23.44554253, 23.43480935, 22.60835488,\n",
       "       23.47774205, 23.46700888, 23.47774205, 22.554689  , 22.554689  ,\n",
       "       23.47774205, 23.43480935, 22.9410833 , 22.9410833 , 23.47774205,\n",
       "       23.34894395, 22.9410833 , 23.44554253, 23.34894395, 23.44554253,\n",
       "       23.48847523, 23.4562757 , 23.4562757 , 22.93035013, 23.43480935,\n",
       "       23.47774205, 23.47774205, 22.56542218, 23.47774205, 23.44554253,\n",
       "       22.56542218, 22.56542218, 23.44554253, 22.56542218, 23.4562757 ,\n",
       "       23.4562757 , 22.554689  , 22.8981506 , 23.44554253, 22.93035013,\n",
       "       23.48847523, 23.4562757 , 23.44554253, 23.48847523, 23.44554253,\n",
       "       23.48847523, 23.34894395, 23.43480935, 22.56542218, 22.554689  ,\n",
       "       23.46700888, 22.56542218, 22.56542218, 22.554689  , 23.44554253,\n",
       "       23.4562757 , 23.47774205, 22.67275393, 23.34894395, 23.44554253,\n",
       "       23.44554253, 23.47774205, 22.56542218, 22.56542218, 23.34894395,\n",
       "       23.27381173, 23.43480935, 22.56542218, 23.44554253, 23.27381173,\n",
       "       23.48847523, 22.96254965, 22.56542218, 23.48847523, 23.46700888,\n",
       "       23.33821078, 23.46700888, 23.27381173, 23.43480935, 23.44554253,\n",
       "       23.34894395, 22.56542218, 22.56542218, 22.56542218, 23.47774205,\n",
       "       23.46700888, 23.44554253, 23.48847523, 23.4562757 , 22.56542218,\n",
       "       23.48847523, 22.554689  , 23.48847523, 23.47774205, 23.47774205,\n",
       "       23.34894395, 22.554689  , 23.44554253, 23.47774205, 23.43480935,\n",
       "       23.44554253, 22.57615535, 22.56542218, 23.48847523, 22.56542218,\n",
       "       22.56542218, 23.48847523, 23.4562757 , 22.5117563 , 22.56542218,\n",
       "       23.44554253, 23.48847523, 22.56542218, 23.44554253, 22.93035013,\n",
       "       22.57615535, 23.46700888, 23.47774205, 23.4562757 , 23.39187665,\n",
       "       22.56542218, 23.47774205, 23.44554253, 22.56542218, 23.27381173,\n",
       "       23.44554253, 23.413343  , 23.44554253, 23.27381173, 22.5117563 ,\n",
       "       23.4562757 , 22.56542218, 22.554689  , 23.4562757 , 22.554689  ,\n",
       "       23.46700888, 23.4562757 , 22.554689  , 22.554689  , 23.48847523,\n",
       "       23.46700888, 22.56542218, 23.27381173, 23.44554253, 23.4562757 ,\n",
       "       23.44554253, 23.44554253, 23.47774205, 23.30601125, 23.4562757 ,\n",
       "       23.4562757 , 23.47774205, 23.47774205, 23.46700888, 23.46700888,\n",
       "       23.46700888, 22.554689  , 23.43480935, 23.34894395, 23.43480935,\n",
       "       22.9410833 , 22.95181648, 23.29527808, 23.47774205, 22.56542218,\n",
       "       23.48847523, 23.4562757 , 22.56542218, 23.47774205, 23.44554253,\n",
       "       22.93035013, 23.47774205, 22.554689  , 23.47774205, 23.31674443,\n",
       "       22.96254965, 22.56542218])"
      ]
     },
     "execution_count": 43,
     "metadata": {},
     "output_type": "execute_result"
    }
   ],
   "source": [
    "# Performance Evaluation Using Test Data\n",
    "# Predict on the test set\n",
    "y_pred = model.predict(X_test)\n",
    "y_pred"
   ]
  },
  {
   "cell_type": "code",
   "execution_count": 51,
   "id": "d7ad0367-94e9-489a-8d5f-9145372ab255",
   "metadata": {},
   "outputs": [
    {
     "name": "stdout",
     "output_type": "stream",
     "text": [
      "Mean Squared Error: 0.8572881286235566\n",
      "r2 Score: 0.07524842245945229\n"
     ]
    }
   ],
   "source": [
    "# Calculate mean squared error and r2\n",
    "mse = mean_squared_error(y_test, y_pred)\n",
    "print('Mean Squared Error:', mse)\n",
    "\n",
    "r2_LR = r2_score(y_test, y_pred)\n",
    "print('r2 Score:', r2_LR)"
   ]
  },
  {
   "cell_type": "code",
   "execution_count": 42,
   "id": "0ff0859c-70bb-41b6-8010-5a684f5545d6",
   "metadata": {},
   "outputs": [
    {
     "data": {
      "image/png": "[encoded data removed]",
      "text/plain": [
       "<Figure size 1000x600 with 1 Axes>"
      ]
     },
     "metadata": {},
     "output_type": "display_data"
    }
   ],
   "source": [
    "# Visualize actual vs predicted values\n",
    "plt.figure(figsize=(10, 6))\n",
    "plt.scatter(y_test, y_pred)\n",
    "plt.xlabel('Actual Temperature')\n",
    "plt.ylabel('Predicted Temperature')\n",
    "plt.title('Actual vs Predicted Temperature')\n",
    "plt.grid(True)\n",
    "plt.show()"
   ]
  },
  {
   "cell_type": "code",
   "execution_count": 45,
   "id": "85de4809-88a4-4805-a34e-10022a25a339",
   "metadata": {},
   "outputs": [
    {
     "data": {
      "text/plain": [
       "array([-0.01073318])"
      ]
     },
     "execution_count": 45,
     "metadata": {},
     "output_type": "execute_result"
    }
   ],
   "source": [
    "coeff_LR =model.coef_\n",
    "coeff_LR"
   ]
  },
  {
   "cell_type": "code",
   "execution_count": 49,
   "id": "439363b8-d623-4496-8af0-4c76cfeb9f1a",
   "metadata": {},
   "outputs": [
    {
     "data": {
      "image/png": "[encoded data removed]",
      "text/plain": [
       "<Figure size 640x480 with 1 Axes>"
      ]
     },
     "metadata": {},
     "output_type": "display_data"
    }
   ],
   "source": [
    "plt.scatter(X_test, y_test, color=\"black\")\n",
    "plt.plot(X_test, y_pred, color=\"blue\", linewidth=2)\n",
    "plt.xlabel('Count')\n",
    "plt.ylabel('Temperature')\n",
    "plt.title('Count Vs. Temperature')\n",
    "plt.tight_layout()\n",
    "plt.show()"
   ]
  }
 ],
 "metadata": {
  "kernelspec": {
   "display_name": "Python 3 (ipykernel)",
   "language": "python",
   "name": "python3"
  },
  "language_info": {
   "codemirror_mode": {
    "name": "ipython",
    "version": 3
   },
   "file_extension": ".py",
   "mimetype": "text/x-python",
   "name": "python",
   "nbconvert_exporter": "python",
   "pygments_lexer": "ipython3",
   "version": "3.11.5"
  }
 },
 "nbformat": 4,
 "nbformat_minor": 5
}
