{
 "cells": [
  {
   "cell_type": "code",
   "execution_count": 24,
   "id": "2f795223-cde0-4db5-9398-e70980240089",
   "metadata": {},
   "outputs": [],
   "source": [
    "#Import Libraries\n",
    "import json\n",
    "import pandas as pd\n",
    "import numpy as np\n",
    "import seaborn as sns\n",
    "from sklearn.model_selection import train_test_split\n",
    "from sklearn.ensemble import RandomForestClassifier\n",
    "from sklearn.metrics import accuracy_score, classification_report\n",
    "import matplotlib.pyplot as plt"
   ]
  },
  {
   "cell_type": "code",
   "execution_count": 25,
   "id": "e75eadba-98e4-428a-b948-58b34cf70764",
   "metadata": {},
   "outputs": [
    {
     "data": {
      "text/html": [
       "<div>\n",
       "<style scoped>\n",
       "    .dataframe tbody tr th:only-of-type {\n",
       "        vertical-align: middle;\n",
       "    }\n",
       "\n",
       "    .dataframe tbody tr th {\n",
       "        vertical-align: top;\n",
       "    }\n",
       "\n",
       "    .dataframe thead th {\n",
       "        text-align: right;\n",
       "    }\n",
       "</style>\n",
       "<table border=\"1\" class=\"dataframe\">\n",
       "  <thead>\n",
       "    <tr style=\"text-align: right;\">\n",
       "      <th></th>\n",
       "      <th>count</th>\n",
       "      <th>humidity</th>\n",
       "      <th>pressure</th>\n",
       "      <th>temperature</th>\n",
       "      <th>id</th>\n",
       "      <th>oxygenSensor</th>\n",
       "    </tr>\n",
       "  </thead>\n",
       "  <tbody>\n",
       "    <tr>\n",
       "      <th>0</th>\n",
       "      <td>0</td>\n",
       "      <td>45.48</td>\n",
       "      <td>99.09</td>\n",
       "      <td>23.68</td>\n",
       "      <td>-NlJJWAq0weZ-2Ma2s2I</td>\n",
       "      <td>NaN</td>\n",
       "    </tr>\n",
       "    <tr>\n",
       "      <th>1</th>\n",
       "      <td>0</td>\n",
       "      <td>45.99</td>\n",
       "      <td>99.09</td>\n",
       "      <td>23.78</td>\n",
       "      <td>-NlJJWpxBWvtf89oy_8j</td>\n",
       "      <td>NaN</td>\n",
       "    </tr>\n",
       "    <tr>\n",
       "      <th>2</th>\n",
       "      <td>0</td>\n",
       "      <td>46.34</td>\n",
       "      <td>99.09</td>\n",
       "      <td>23.74</td>\n",
       "      <td>-NlJJXU-HIxTWY9fY1yU</td>\n",
       "      <td>NaN</td>\n",
       "    </tr>\n",
       "    <tr>\n",
       "      <th>3</th>\n",
       "      <td>0</td>\n",
       "      <td>46.19</td>\n",
       "      <td>99.09</td>\n",
       "      <td>23.74</td>\n",
       "      <td>-NlJJY7N0Hqj-mAfZhuW</td>\n",
       "      <td>NaN</td>\n",
       "    </tr>\n",
       "    <tr>\n",
       "      <th>4</th>\n",
       "      <td>0</td>\n",
       "      <td>46.47</td>\n",
       "      <td>99.09</td>\n",
       "      <td>23.78</td>\n",
       "      <td>-NlJJYlN7-idCOC5_nNI</td>\n",
       "      <td>NaN</td>\n",
       "    </tr>\n",
       "    <tr>\n",
       "      <th>...</th>\n",
       "      <td>...</td>\n",
       "      <td>...</td>\n",
       "      <td>...</td>\n",
       "      <td>...</td>\n",
       "      <td>...</td>\n",
       "      <td>...</td>\n",
       "    </tr>\n",
       "    <tr>\n",
       "      <th>7043</th>\n",
       "      <td>5</td>\n",
       "      <td>40.85</td>\n",
       "      <td>99.60</td>\n",
       "      <td>23.71</td>\n",
       "      <td>-Nv0Q-pNPJzMrIadKZRk</td>\n",
       "      <td>20.74</td>\n",
       "    </tr>\n",
       "    <tr>\n",
       "      <th>7044</th>\n",
       "      <td>5</td>\n",
       "      <td>41.07</td>\n",
       "      <td>99.60</td>\n",
       "      <td>23.71</td>\n",
       "      <td>-Nv0Q0lnZwZPIqzpPIFF</td>\n",
       "      <td>20.73</td>\n",
       "    </tr>\n",
       "    <tr>\n",
       "      <th>7045</th>\n",
       "      <td>5</td>\n",
       "      <td>40.92</td>\n",
       "      <td>99.60</td>\n",
       "      <td>23.71</td>\n",
       "      <td>-Nv0Q1iIDUka3IzUUCQj</td>\n",
       "      <td>20.74</td>\n",
       "    </tr>\n",
       "    <tr>\n",
       "      <th>7046</th>\n",
       "      <td>5</td>\n",
       "      <td>41.16</td>\n",
       "      <td>99.60</td>\n",
       "      <td>23.71</td>\n",
       "      <td>-Nv0Q2etjcgE3ZR6QQ_q</td>\n",
       "      <td>20.73</td>\n",
       "    </tr>\n",
       "    <tr>\n",
       "      <th>7047</th>\n",
       "      <td>5</td>\n",
       "      <td>40.93</td>\n",
       "      <td>99.60</td>\n",
       "      <td>23.69</td>\n",
       "      <td>-Nv0Q3bNCRZfIwvKm_vP</td>\n",
       "      <td>20.75</td>\n",
       "    </tr>\n",
       "  </tbody>\n",
       "</table>\n",
       "<p>7048 rows × 6 columns</p>\n",
       "</div>"
      ],
      "text/plain": [
       "      count  humidity  pressure  temperature                    id  \\\n",
       "0         0     45.48     99.09        23.68  -NlJJWAq0weZ-2Ma2s2I   \n",
       "1         0     45.99     99.09        23.78  -NlJJWpxBWvtf89oy_8j   \n",
       "2         0     46.34     99.09        23.74  -NlJJXU-HIxTWY9fY1yU   \n",
       "3         0     46.19     99.09        23.74  -NlJJY7N0Hqj-mAfZhuW   \n",
       "4         0     46.47     99.09        23.78  -NlJJYlN7-idCOC5_nNI   \n",
       "...     ...       ...       ...          ...                   ...   \n",
       "7043      5     40.85     99.60        23.71  -Nv0Q-pNPJzMrIadKZRk   \n",
       "7044      5     41.07     99.60        23.71  -Nv0Q0lnZwZPIqzpPIFF   \n",
       "7045      5     40.92     99.60        23.71  -Nv0Q1iIDUka3IzUUCQj   \n",
       "7046      5     41.16     99.60        23.71  -Nv0Q2etjcgE3ZR6QQ_q   \n",
       "7047      5     40.93     99.60        23.69  -Nv0Q3bNCRZfIwvKm_vP   \n",
       "\n",
       "      oxygenSensor  \n",
       "0              NaN  \n",
       "1              NaN  \n",
       "2              NaN  \n",
       "3              NaN  \n",
       "4              NaN  \n",
       "...            ...  \n",
       "7043         20.74  \n",
       "7044         20.73  \n",
       "7045         20.74  \n",
       "7046         20.73  \n",
       "7047         20.75  \n",
       "\n",
       "[7048 rows x 6 columns]"
      ]
     },
     "execution_count": 25,
     "metadata": {},
     "output_type": "execute_result"
    }
   ],
   "source": [
    "# Read JSON file\n",
    "with open('new_bus_json.json') as f:\n",
    "    data = json.load(f)\n",
    "\n",
    "# Extract relevant data by Converting JSON data to DataFrame\n",
    "system_data = []\n",
    "for key, value in data['sensorData']['jsonData'].items():\n",
    "    value['id'] = key  # Add an identifier for each data point\n",
    "    system_data.append(value)\n",
    "\n",
    "# Convert to pandas DataFrame\n",
    "df = pd.DataFrame(system_data)\n",
    "df"
   ]
  },
  {
   "cell_type": "code",
   "execution_count": 3,
   "id": "317685c1-14fa-4489-a1e4-a731b58db922",
   "metadata": {},
   "outputs": [
    {
     "name": "stdout",
     "output_type": "stream",
     "text": [
      "             count     humidity     pressure  temperature  oxygenSensor\n",
      "count  7048.000000  7048.000000  7048.000000  7048.000000   4084.000000\n",
      "mean     17.159620    40.485480    98.336019    23.700681     20.819167\n",
      "std      29.646112     5.780863     5.892388     1.862144      0.101321\n",
      "min       0.000000     0.000000     0.000000     0.000000     20.620000\n",
      "25%       2.000000    39.580000    98.280000    22.710000     20.760000\n",
      "50%       4.000000    40.840000    98.490000    23.410000     20.790000\n",
      "75%       9.000000    43.960000    99.060000    25.110000     20.840000\n",
      "max      91.000000   134.570000    99.820000    26.860000     21.270000\n"
     ]
    }
   ],
   "source": [
    "print(df.describe())"
   ]
  },
  {
   "cell_type": "code",
   "execution_count": 9,
   "id": "0e7b9e3e-130e-4c4b-93e6-cbe02acc43d3",
   "metadata": {},
   "outputs": [
    {
     "name": "stdout",
     "output_type": "stream",
     "text": [
      "Missing values: count                      0\n",
      "humidity                   0\n",
      "pressure                   0\n",
      "temperature                0\n",
      "id                         0\n",
      "oxygenSensor            2964\n",
      "temperature_category       0\n",
      "dtype: int64\n"
     ]
    }
   ],
   "source": [
    "print(\"Missing values:\", df.isnull().sum())"
   ]
  },
  {
   "cell_type": "code",
   "execution_count": 1,
   "id": "e05c25df-4302-4017-a570-4e4e53403750",
   "metadata": {},
   "outputs": [
    {
     "ename": "NameError",
     "evalue": "name 'df' is not defined",
     "output_type": "error",
     "traceback": [
      "\u001b[0;31m---------------------------------------------------------------------------\u001b[0m",
      "\u001b[0;31mNameError\u001b[0m                                 Traceback (most recent call last)",
      "Cell \u001b[0;32mIn[1], line 1\u001b[0m\n\u001b[0;32m----> 1\u001b[0m \u001b[38;5;28mprint\u001b[39m(\u001b[38;5;124m\"\u001b[39m\u001b[38;5;124mMissing values:\u001b[39m\u001b[38;5;124m\"\u001b[39m, df\u001b[38;5;241m.\u001b[39misnull()\u001b[38;5;241m.\u001b[39msum())\n",
      "\u001b[0;31mNameError\u001b[0m: name 'df' is not defined"
     ]
    }
   ],
   "source": []
  },
  {
   "cell_type": "code",
   "execution_count": 27,
   "id": "a562f0b1-a872-4436-ab03-7085b3d4a83b",
   "metadata": {},
   "outputs": [],
   "source": [
    "# Handle missing values\n",
    "df.dropna(inplace=True)"
   ]
  },
  {
   "cell_type": "code",
   "execution_count": 28,
   "id": "c39030c9-87cb-4132-87cd-1b7c268b5dbc",
   "metadata": {},
   "outputs": [
    {
     "data": {
      "text/plain": [
       "count           0\n",
       "humidity        0\n",
       "pressure        0\n",
       "temperature     0\n",
       "id              0\n",
       "oxygenSensor    0\n",
       "dtype: int64"
      ]
     },
     "execution_count": 28,
     "metadata": {},
     "output_type": "execute_result"
    }
   ],
   "source": [
    "null_value = df.isnull()\n",
    "null_count = null_value.sum()\n",
    "null_count"
   ]
  },
  {
   "cell_type": "code",
   "execution_count": 29,
   "id": "ebc31772-0f24-4e3e-a950-6c7b5e453420",
   "metadata": {},
   "outputs": [
    {
     "name": "stdout",
     "output_type": "stream",
     "text": [
      "Missing values: count           0\n",
      "humidity        0\n",
      "pressure        0\n",
      "temperature     0\n",
      "id              0\n",
      "oxygenSensor    0\n",
      "dtype: int64\n"
     ]
    }
   ],
   "source": [
    "# Check for missing values\n",
    "print(\"Missing values:\", df.isnull().sum())"
   ]
  },
  {
   "cell_type": "code",
   "execution_count": 30,
   "id": "bb12aa8a-63f0-4beb-ae23-49dcad1b1812",
   "metadata": {},
   "outputs": [],
   "source": [
    "# Model Selection\n",
    "# Discretize temperature into categories (e.g., low, medium, high)\n",
    "def discretize_temperature(temp):\n",
    "    if temp < 20:\n",
    "        return 'low'\n",
    "    elif temp >= 20 and temp <= 25:\n",
    "        return 'medium'\n",
    "    else:\n",
    "        return 'high'\n",
    "\n",
    "df['temperature_category'] = df['temperature'].apply(discretize_temperature)"
   ]
  },
  {
   "cell_type": "code",
   "execution_count": 31,
   "id": "e80407ce-2fd0-4f30-8ef4-90b8095eb55e",
   "metadata": {},
   "outputs": [
    {
     "data": {
      "text/html": [
       "<div>\n",
       "<style scoped>\n",
       "    .dataframe tbody tr th:only-of-type {\n",
       "        vertical-align: middle;\n",
       "    }\n",
       "\n",
       "    .dataframe tbody tr th {\n",
       "        vertical-align: top;\n",
       "    }\n",
       "\n",
       "    .dataframe thead th {\n",
       "        text-align: right;\n",
       "    }\n",
       "</style>\n",
       "<table border=\"1\" class=\"dataframe\">\n",
       "  <thead>\n",
       "    <tr style=\"text-align: right;\">\n",
       "      <th></th>\n",
       "      <th>count</th>\n",
       "      <th>humidity</th>\n",
       "      <th>pressure</th>\n",
       "      <th>temperature</th>\n",
       "      <th>id</th>\n",
       "      <th>oxygenSensor</th>\n",
       "      <th>temperature_category</th>\n",
       "    </tr>\n",
       "  </thead>\n",
       "  <tbody>\n",
       "    <tr>\n",
       "      <th>2964</th>\n",
       "      <td>4</td>\n",
       "      <td>41.97</td>\n",
       "      <td>98.14</td>\n",
       "      <td>22.07</td>\n",
       "      <td>-NueoL1gkM2PqLlSs80d</td>\n",
       "      <td>20.72</td>\n",
       "      <td>medium</td>\n",
       "    </tr>\n",
       "    <tr>\n",
       "      <th>2965</th>\n",
       "      <td>4</td>\n",
       "      <td>41.36</td>\n",
       "      <td>98.14</td>\n",
       "      <td>22.20</td>\n",
       "      <td>-NueoM0DI7IgmpG9immZ</td>\n",
       "      <td>20.70</td>\n",
       "      <td>medium</td>\n",
       "    </tr>\n",
       "    <tr>\n",
       "      <th>2966</th>\n",
       "      <td>4</td>\n",
       "      <td>41.41</td>\n",
       "      <td>98.14</td>\n",
       "      <td>22.18</td>\n",
       "      <td>-NueoN0FbRmlmFW0JL_V</td>\n",
       "      <td>20.75</td>\n",
       "      <td>medium</td>\n",
       "    </tr>\n",
       "    <tr>\n",
       "      <th>2967</th>\n",
       "      <td>4</td>\n",
       "      <td>41.28</td>\n",
       "      <td>98.15</td>\n",
       "      <td>22.22</td>\n",
       "      <td>-NueoNxjgSLPRouUY6fp</td>\n",
       "      <td>20.74</td>\n",
       "      <td>medium</td>\n",
       "    </tr>\n",
       "    <tr>\n",
       "      <th>2968</th>\n",
       "      <td>4</td>\n",
       "      <td>41.19</td>\n",
       "      <td>98.14</td>\n",
       "      <td>22.18</td>\n",
       "      <td>-NueoOu2aHQkjTgyOZz9</td>\n",
       "      <td>20.74</td>\n",
       "      <td>medium</td>\n",
       "    </tr>\n",
       "  </tbody>\n",
       "</table>\n",
       "</div>"
      ],
      "text/plain": [
       "      count  humidity  pressure  temperature                    id  \\\n",
       "2964      4     41.97     98.14        22.07  -NueoL1gkM2PqLlSs80d   \n",
       "2965      4     41.36     98.14        22.20  -NueoM0DI7IgmpG9immZ   \n",
       "2966      4     41.41     98.14        22.18  -NueoN0FbRmlmFW0JL_V   \n",
       "2967      4     41.28     98.15        22.22  -NueoNxjgSLPRouUY6fp   \n",
       "2968      4     41.19     98.14        22.18  -NueoOu2aHQkjTgyOZz9   \n",
       "\n",
       "      oxygenSensor temperature_category  \n",
       "2964         20.72               medium  \n",
       "2965         20.70               medium  \n",
       "2966         20.75               medium  \n",
       "2967         20.74               medium  \n",
       "2968         20.74               medium  "
      ]
     },
     "execution_count": 31,
     "metadata": {},
     "output_type": "execute_result"
    }
   ],
   "source": [
    "df.head()"
   ]
  },
  {
   "cell_type": "code",
   "execution_count": 32,
   "id": "a1c00a8d-7732-45f4-a40d-2348b507b793",
   "metadata": {},
   "outputs": [],
   "source": [
    "# Split data into features (X) and target variable (y)\n",
    "X = df[['humidity', 'pressure', 'count', 'oxygenSensor']]  # Feature matrix\n",
    "y = df['temperature_category']  # Target variable"
   ]
  },
  {
   "cell_type": "code",
   "execution_count": 41,
   "id": "eaa580f5-1940-401f-89c8-9a05af25474d",
   "metadata": {},
   "outputs": [],
   "source": [
    "# Split data into training and testing sets\n",
    "X_train, X_test, y_train, y_test = train_test_split(X, y, test_size=0.2, random_state=42)"
   ]
  },
  {
   "cell_type": "code",
   "execution_count": 42,
   "id": "a54a555f-9fab-4ba9-8bfb-b7e4b5aedb73",
   "metadata": {},
   "outputs": [
    {
     "data": {
      "text/html": [
       "<style>#sk-container-id-4 {color: black;}#sk-container-id-4 pre{padding: 0;}#sk-container-id-4 div.sk-toggleable {background-color: white;}#sk-container-id-4 label.sk-toggleable__label {cursor: pointer;display: block;width: 100%;margin-bottom: 0;padding: 0.3em;box-sizing: border-box;text-align: center;}#sk-container-id-4 label.sk-toggleable__label-arrow:before {content: \"▸\";float: left;margin-right: 0.25em;color: #696969;}#sk-container-id-4 label.sk-toggleable__label-arrow:hover:before {color: black;}#sk-container-id-4 div.sk-estimator:hover label.sk-toggleable__label-arrow:before {color: black;}#sk-container-id-4 div.sk-toggleable__content {max-height: 0;max-width: 0;overflow: hidden;text-align: left;background-color: #f0f8ff;}#sk-container-id-4 div.sk-toggleable__content pre {margin: 0.2em;color: black;border-radius: 0.25em;background-color: #f0f8ff;}#sk-container-id-4 input.sk-toggleable__control:checked~div.sk-toggleable__content {max-height: 200px;max-width: 100%;overflow: auto;}#sk-container-id-4 input.sk-toggleable__control:checked~label.sk-toggleable__label-arrow:before {content: \"▾\";}#sk-container-id-4 div.sk-estimator input.sk-toggleable__control:checked~label.sk-toggleable__label {background-color: #d4ebff;}#sk-container-id-4 div.sk-label input.sk-toggleable__control:checked~label.sk-toggleable__label {background-color: #d4ebff;}#sk-container-id-4 input.sk-hidden--visually {border: 0;clip: rect(1px 1px 1px 1px);clip: rect(1px, 1px, 1px, 1px);height: 1px;margin: -1px;overflow: hidden;padding: 0;position: absolute;width: 1px;}#sk-container-id-4 div.sk-estimator {font-family: monospace;background-color: #f0f8ff;border: 1px dotted black;border-radius: 0.25em;box-sizing: border-box;margin-bottom: 0.5em;}#sk-container-id-4 div.sk-estimator:hover {background-color: #d4ebff;}#sk-container-id-4 div.sk-parallel-item::after {content: \"\";width: 100%;border-bottom: 1px solid gray;flex-grow: 1;}#sk-container-id-4 div.sk-label:hover label.sk-toggleable__label {background-color: #d4ebff;}#sk-container-id-4 div.sk-serial::before {content: \"\";position: absolute;border-left: 1px solid gray;box-sizing: border-box;top: 0;bottom: 0;left: 50%;z-index: 0;}#sk-container-id-4 div.sk-serial {display: flex;flex-direction: column;align-items: center;background-color: white;padding-right: 0.2em;padding-left: 0.2em;position: relative;}#sk-container-id-4 div.sk-item {position: relative;z-index: 1;}#sk-container-id-4 div.sk-parallel {display: flex;align-items: stretch;justify-content: center;background-color: white;position: relative;}#sk-container-id-4 div.sk-item::before, #sk-container-id-4 div.sk-parallel-item::before {content: \"\";position: absolute;border-left: 1px solid gray;box-sizing: border-box;top: 0;bottom: 0;left: 50%;z-index: -1;}#sk-container-id-4 div.sk-parallel-item {display: flex;flex-direction: column;z-index: 1;position: relative;background-color: white;}#sk-container-id-4 div.sk-parallel-item:first-child::after {align-self: flex-end;width: 50%;}#sk-container-id-4 div.sk-parallel-item:last-child::after {align-self: flex-start;width: 50%;}#sk-container-id-4 div.sk-parallel-item:only-child::after {width: 0;}#sk-container-id-4 div.sk-dashed-wrapped {border: 1px dashed gray;margin: 0 0.4em 0.5em 0.4em;box-sizing: border-box;padding-bottom: 0.4em;background-color: white;}#sk-container-id-4 div.sk-label label {font-family: monospace;font-weight: bold;display: inline-block;line-height: 1.2em;}#sk-container-id-4 div.sk-label-container {text-align: center;}#sk-container-id-4 div.sk-container {/* jupyter's `normalize.less` sets `[hidden] { display: none; }` but bootstrap.min.css set `[hidden] { display: none !important; }` so we also need the `!important` here to be able to override the default hidden behavior on the sphinx rendered scikit-learn.org. See: https://github.com/scikit-learn/scikit-learn/issues/21755 */display: inline-block !important;position: relative;}#sk-container-id-4 div.sk-text-repr-fallback {display: none;}</style><div id=\"sk-container-id-4\" class=\"sk-top-container\"><div class=\"sk-text-repr-fallback\"><pre>RandomForestClassifier(random_state=42)</pre><b>In a Jupyter environment, please rerun this cell to show the HTML representation or trust the notebook. <br />On GitHub, the HTML representation is unable to render, please try loading this page with nbviewer.org.</b></div><div class=\"sk-container\" hidden><div class=\"sk-item\"><div class=\"sk-estimator sk-toggleable\"><input class=\"sk-toggleable__control sk-hidden--visually\" id=\"sk-estimator-id-4\" type=\"checkbox\" checked><label for=\"sk-estimator-id-4\" class=\"sk-toggleable__label sk-toggleable__label-arrow\">RandomForestClassifier</label><div class=\"sk-toggleable__content\"><pre>RandomForestClassifier(random_state=42)</pre></div></div></div></div></div>"
      ],
      "text/plain": [
       "RandomForestClassifier(random_state=42)"
      ]
     },
     "execution_count": 42,
     "metadata": {},
     "output_type": "execute_result"
    }
   ],
   "source": [
    "# Train the Model Using Training Data\n",
    "# Initialize and fit the RandomForestClassifier\n",
    "model = RandomForestClassifier(n_estimators=100, random_state=42)\n",
    "model.fit(X_train, y_train)"
   ]
  },
  {
   "cell_type": "code",
   "execution_count": 55,
   "id": "1d9ebd9a-706a-4508-9584-f0a9f87cfbc1",
   "metadata": {},
   "outputs": [
    {
     "name": "stdout",
     "output_type": "stream",
     "text": [
      "['medium' 'medium' 'medium' 'medium' 'medium' 'high' 'medium' 'medium'\n",
      " 'medium' 'medium' 'high' 'medium' 'medium' 'medium' 'medium' 'medium'\n",
      " 'medium' 'medium' 'medium' 'medium' 'medium' 'medium' 'medium' 'medium'\n",
      " 'medium' 'medium' 'high' 'medium' 'medium' 'medium' 'medium' 'medium'\n",
      " 'medium' 'medium' 'medium' 'medium' 'medium' 'high' 'medium' 'medium'\n",
      " 'high' 'high' 'medium' 'medium' 'medium' 'medium' 'medium' 'medium'\n",
      " 'medium' 'medium' 'medium' 'medium' 'medium' 'medium' 'medium' 'medium'\n",
      " 'medium' 'medium' 'medium' 'medium' 'medium' 'medium' 'medium' 'medium'\n",
      " 'medium' 'medium' 'medium' 'medium' 'medium' 'medium' 'medium' 'high'\n",
      " 'medium' 'medium' 'medium' 'medium' 'medium' 'medium' 'medium' 'medium'\n",
      " 'high' 'medium' 'medium' 'medium' 'medium' 'medium' 'medium' 'medium'\n",
      " 'medium' 'medium' 'high' 'medium' 'medium' 'medium' 'high' 'medium'\n",
      " 'medium' 'medium' 'medium' 'medium' 'medium' 'medium' 'medium' 'medium'\n",
      " 'medium' 'medium' 'medium' 'medium' 'medium' 'medium' 'medium' 'medium'\n",
      " 'medium' 'medium' 'medium' 'medium' 'medium' 'medium' 'medium' 'medium'\n",
      " 'medium' 'medium' 'medium' 'medium' 'medium' 'medium' 'medium' 'medium'\n",
      " 'medium' 'medium' 'medium' 'medium' 'medium' 'medium' 'medium' 'medium'\n",
      " 'high' 'medium' 'medium' 'medium' 'medium' 'medium' 'medium' 'medium'\n",
      " 'medium' 'medium' 'medium' 'medium' 'medium' 'medium' 'medium' 'medium'\n",
      " 'medium' 'medium' 'medium' 'medium' 'medium' 'medium' 'medium' 'medium'\n",
      " 'medium' 'high' 'high' 'medium' 'high' 'medium' 'high' 'medium' 'medium'\n",
      " 'medium' 'medium' 'medium' 'medium' 'medium' 'medium' 'medium' 'medium'\n",
      " 'medium' 'medium' 'medium' 'medium' 'medium' 'high' 'high' 'medium'\n",
      " 'medium' 'medium' 'medium' 'medium' 'medium' 'medium' 'medium' 'medium'\n",
      " 'medium' 'medium' 'medium' 'medium' 'medium' 'medium' 'medium' 'medium'\n",
      " 'medium' 'medium' 'medium' 'medium' 'medium' 'medium' 'medium' 'medium'\n",
      " 'medium' 'medium' 'high' 'medium' 'medium' 'medium' 'medium' 'medium'\n",
      " 'medium' 'medium' 'medium' 'medium' 'high' 'medium' 'high' 'medium'\n",
      " 'medium' 'medium' 'medium' 'medium' 'medium' 'high' 'medium' 'high'\n",
      " 'high' 'medium' 'medium' 'high' 'medium' 'high' 'medium' 'medium'\n",
      " 'medium' 'high' 'high' 'medium' 'medium' 'medium' 'medium' 'medium'\n",
      " 'medium' 'medium' 'high' 'medium' 'medium' 'medium' 'medium' 'medium'\n",
      " 'medium' 'medium' 'medium' 'medium' 'medium' 'medium' 'medium' 'medium'\n",
      " 'medium' 'high' 'medium' 'medium' 'medium' 'medium' 'medium' 'medium'\n",
      " 'medium' 'medium' 'medium' 'medium' 'medium' 'medium' 'medium' 'medium'\n",
      " 'medium' 'medium' 'medium' 'medium' 'medium' 'medium' 'medium' 'medium'\n",
      " 'high' 'high' 'medium' 'medium' 'medium' 'medium' 'medium' 'medium'\n",
      " 'medium' 'medium' 'medium' 'high' 'high' 'medium' 'high' 'high' 'high'\n",
      " 'medium' 'medium' 'medium' 'medium' 'medium' 'medium' 'medium' 'medium'\n",
      " 'medium' 'medium' 'medium' 'medium' 'medium' 'medium' 'medium' 'medium'\n",
      " 'medium' 'medium' 'medium' 'medium' 'medium' 'medium' 'medium' 'medium'\n",
      " 'medium' 'medium' 'high' 'medium' 'medium' 'medium' 'medium' 'medium'\n",
      " 'medium' 'medium' 'medium' 'medium' 'medium' 'high' 'medium' 'medium'\n",
      " 'medium' 'medium' 'medium' 'medium' 'high' 'medium' 'medium' 'medium'\n",
      " 'medium' 'high' 'medium' 'medium' 'medium' 'medium' 'medium' 'high'\n",
      " 'medium' 'medium' 'medium' 'medium' 'medium' 'high' 'medium' 'medium'\n",
      " 'medium' 'medium' 'medium' 'medium' 'medium' 'medium' 'medium' 'medium'\n",
      " 'medium' 'medium' 'medium' 'medium' 'medium' 'medium' 'medium' 'medium'\n",
      " 'medium' 'medium' 'medium' 'medium' 'high' 'medium' 'medium' 'high'\n",
      " 'high' 'medium' 'medium' 'medium' 'medium' 'medium' 'medium' 'medium'\n",
      " 'medium' 'medium' 'medium' 'medium' 'high' 'medium' 'medium' 'medium'\n",
      " 'medium' 'high' 'medium' 'medium' 'medium' 'medium' 'high' 'medium'\n",
      " 'medium' 'medium' 'medium' 'medium' 'medium' 'high' 'medium' 'medium'\n",
      " 'medium' 'medium' 'medium' 'medium' 'medium' 'medium' 'medium' 'medium'\n",
      " 'medium' 'medium' 'medium' 'high' 'medium' 'medium' 'medium' 'medium'\n",
      " 'medium' 'medium' 'high' 'medium' 'medium' 'medium' 'medium' 'medium'\n",
      " 'medium' 'medium' 'high' 'medium' 'medium' 'medium' 'high' 'medium'\n",
      " 'medium' 'medium' 'medium' 'medium' 'medium' 'medium' 'high' 'medium'\n",
      " 'medium' 'medium' 'medium' 'medium' 'medium' 'medium' 'medium' 'medium'\n",
      " 'medium' 'medium' 'medium' 'high' 'medium' 'medium' 'medium' 'medium'\n",
      " 'high' 'high' 'medium' 'medium' 'medium' 'medium' 'medium' 'medium'\n",
      " 'high' 'medium' 'medium' 'medium' 'medium' 'medium' 'medium' 'medium'\n",
      " 'medium' 'medium' 'medium' 'medium' 'medium' 'medium' 'medium' 'medium'\n",
      " 'medium' 'high' 'medium' 'medium' 'medium' 'medium' 'medium' 'medium'\n",
      " 'high' 'high' 'medium' 'medium' 'medium' 'high' 'medium' 'medium'\n",
      " 'medium' 'high' 'medium' 'medium' 'medium' 'medium' 'medium' 'medium'\n",
      " 'medium' 'medium' 'medium' 'medium' 'medium' 'medium' 'medium' 'medium'\n",
      " 'high' 'medium' 'medium' 'medium' 'medium' 'medium' 'medium' 'medium'\n",
      " 'medium' 'medium' 'medium' 'medium' 'medium' 'medium' 'medium' 'medium'\n",
      " 'medium' 'medium' 'medium' 'medium' 'medium' 'medium' 'medium' 'medium'\n",
      " 'medium' 'medium' 'medium' 'medium' 'medium' 'medium' 'medium' 'medium'\n",
      " 'medium' 'medium' 'medium' 'medium' 'medium' 'medium' 'medium' 'medium'\n",
      " 'medium' 'high' 'medium' 'medium' 'high' 'medium' 'medium' 'medium'\n",
      " 'medium' 'medium' 'medium' 'medium' 'medium' 'medium' 'medium' 'medium'\n",
      " 'medium' 'high' 'medium' 'medium' 'medium' 'medium' 'medium' 'high'\n",
      " 'medium' 'medium' 'medium' 'medium' 'medium' 'high' 'medium' 'medium'\n",
      " 'medium' 'medium' 'high' 'medium' 'medium' 'medium' 'medium' 'medium'\n",
      " 'medium' 'medium' 'medium' 'medium' 'high' 'medium' 'medium' 'medium'\n",
      " 'medium' 'high' 'medium' 'medium' 'high' 'high' 'medium' 'medium'\n",
      " 'medium' 'medium' 'medium' 'medium' 'medium' 'medium' 'medium' 'medium'\n",
      " 'medium' 'medium' 'medium' 'high' 'high' 'medium' 'medium' 'medium'\n",
      " 'medium' 'medium' 'high' 'high' 'medium' 'high' 'high' 'medium' 'medium'\n",
      " 'medium' 'medium' 'medium' 'medium' 'high' 'medium' 'medium' 'high'\n",
      " 'medium' 'medium' 'medium' 'medium' 'medium' 'medium' 'medium' 'medium'\n",
      " 'medium' 'medium' 'medium' 'medium' 'high' 'medium' 'medium' 'medium'\n",
      " 'medium' 'medium' 'medium' 'medium' 'medium' 'medium' 'medium' 'high'\n",
      " 'medium' 'medium' 'medium' 'medium' 'medium' 'medium' 'medium' 'medium'\n",
      " 'medium' 'medium' 'medium' 'medium' 'medium' 'medium' 'medium' 'medium'\n",
      " 'medium' 'medium' 'medium' 'high' 'medium' 'medium' 'medium' 'high'\n",
      " 'medium' 'medium' 'medium' 'medium' 'medium' 'medium' 'medium' 'medium'\n",
      " 'medium' 'medium' 'medium' 'medium' 'medium' 'high' 'medium' 'medium'\n",
      " 'medium' 'medium' 'medium' 'medium' 'high' 'medium' 'medium' 'medium'\n",
      " 'medium' 'medium' 'medium' 'medium' 'medium' 'medium' 'medium' 'medium'\n",
      " 'medium' 'medium' 'medium' 'medium' 'medium' 'medium' 'medium' 'high'\n",
      " 'medium' 'high' 'medium' 'medium' 'high' 'medium' 'high' 'medium'\n",
      " 'medium' 'medium' 'medium' 'medium' 'medium' 'medium' 'medium' 'medium'\n",
      " 'medium' 'medium' 'medium' 'medium' 'medium' 'medium' 'medium' 'medium'\n",
      " 'medium' 'medium' 'medium' 'medium' 'medium' 'medium' 'medium' 'medium'\n",
      " 'high' 'medium' 'medium' 'medium' 'medium' 'medium' 'medium' 'medium'\n",
      " 'medium' 'medium' 'medium' 'medium' 'medium' 'high' 'medium' 'medium'\n",
      " 'medium' 'medium' 'high' 'medium' 'medium' 'medium' 'medium' 'high'\n",
      " 'medium' 'medium' 'medium' 'medium' 'high' 'medium']\n"
     ]
    }
   ],
   "source": [
    "# Performance Evaluation Using Test Data\n",
    "# Predict on the test set\n",
    "y_pred = model.predict(X_test)\n",
    "print(y_pred)"
   ]
  },
  {
   "cell_type": "code",
   "execution_count": 61,
   "id": "2e587a7d-206a-40a5-bb1d-be5b63f08055",
   "metadata": {},
   "outputs": [
    {
     "data": {
      "text/plain": [
       "[<matplotlib.lines.Line2D at 0x13b78fa90>]"
      ]
     },
     "execution_count": 61,
     "metadata": {},
     "output_type": "execute_result"
    },
    {
     "data": {
      "image/png": "[encoded data removed]",
      "text/plain": [
       "<Figure size 1000x600 with 1 Axes>"
      ]
     },
     "metadata": {},
     "output_type": "display_data"
    }
   ],
   "source": [
    "plt.figure(figsize=(10, 6))\n",
    "plt.plot(y_pred)\n",
    "plt.plot(y_test)"
   ]
  },
  {
   "cell_type": "code",
   "execution_count": 57,
   "id": "ffc2b08c-5d3e-4dcb-846d-769cd62e2fad",
   "metadata": {},
   "outputs": [
    {
     "name": "stdout",
     "output_type": "stream",
     "text": [
      "Accuracy: 0.988984088127295\n"
     ]
    }
   ],
   "source": [
    "# Calculate accuracy\n",
    "accuracy = accuracy_score(y_test, y_pred)\n",
    "print('Accuracy:', accuracy)"
   ]
  },
  {
   "cell_type": "code",
   "execution_count": 47,
   "id": "b78ae610-42d0-4742-9aec-dc10b5761696",
   "metadata": {},
   "outputs": [
    {
     "data": {
      "image/png": "[encoded data removed]",
      "text/plain": [
       "<Figure size 1000x600 with 1 Axes>"
      ]
     },
     "metadata": {},
     "output_type": "display_data"
    }
   ],
   "source": [
    "import matplotlib.pyplot as plt\n",
    "\n",
    "# Plotting actual vs predicted values\n",
    "plt.figure(figsize=(10, 6))\n",
    "plt.scatter(y_test, y_pred, color='blue', label='Actual vs Predicted')\n",
    "plt.plot([min(y_test), max(y_test)], [min(y_test), max(y_test)], color='red', linestyle='--', label='Perfect Prediction')\n",
    "plt.xlabel('Actual Temperature')\n",
    "plt.ylabel('Predicted Temperature')\n",
    "plt.title('Actual vs Predicted Temperature')\n",
    "plt.legend()\n",
    "plt.grid(True)\n",
    "plt.show()\n"
   ]
  },
  {
   "cell_type": "code",
   "execution_count": null,
   "id": "d0e9fae4-fd8a-40f1-a68c-d22483467063",
   "metadata": {},
   "outputs": [],
   "source": []
  }
 ],
 "metadata": {
  "kernelspec": {
   "display_name": "Python 3 (ipykernel)",
   "language": "python",
   "name": "python3"
  },
  "language_info": {
   "codemirror_mode": {
    "name": "ipython",
    "version": 3
   },
   "file_extension": ".py",
   "mimetype": "text/x-python",
   "name": "python",
   "nbconvert_exporter": "python",
   "pygments_lexer": "ipython3",
   "version": "3.11.5"
  }
 },
 "nbformat": 4,
 "nbformat_minor": 5
}
